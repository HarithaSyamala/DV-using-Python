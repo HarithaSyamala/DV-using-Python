{
 "cells": [
  {
   "cell_type": "markdown",
   "id": "1d59ce7d",
   "metadata": {},
   "source": [
    "# Pandas, Matplotlib and Seaborn"
   ]
  },
  {
   "cell_type": "code",
   "execution_count": null,
   "id": "a163483f",
   "metadata": {},
   "outputs": [],
   "source": [
    "import pandas as pd"
   ]
  },
  {
   "cell_type": "markdown",
   "id": "3e9cb5a8",
   "metadata": {},
   "source": [
    "[Dataset Soruce](https://www.kaggle.com/datasets/rajkumarpandey02/gdp-in-usd-per-capita-income-by-country)"
   ]
  },
  {
   "cell_type": "markdown",
   "id": "7d8ea84d",
   "metadata": {},
   "source": [
    "CONTENT\n",
    "<p>The figures presented here do not take into account differences in the cost of living in different countries, and the results vary greatly from one year to another based on fluctuations in the exchange rates of the country's currency. Such fluctuations change a country's ranking from one year to the next, even though they often make little or no difference to the standard of living of its population.\n",
    "\n",
    "GDP per capita is often considered an indicator of a country's standard of living; however, this is inaccurate because GDP per capita is not a measure of personal income.\n",
    "\n",
    "Comparisons of national income are also frequently made on the basis of purchasing power parity (PPP), to adjust for differences in the cost of living in different countries. (See List of countries by GDP (PPP) per capita.) PPP largely removes the exchange rate problem but not others; it does not reflect the value of economic output in international trade, and it also requires more estimation than GDP per capita. On the whole, PPP per capita figures are more narrowly spread than nominal GDP per capita figures.</p>"
   ]
  },
  {
   "cell_type": "code",
   "execution_count": null,
   "id": "d007012d",
   "metadata": {},
   "outputs": [],
   "source": [
    "df = pd.read_csv(\"GDP (nominal) per Capita.csv\",encoding= 'unicode_escape',  index_col=0)"
   ]
  },
  {
   "cell_type": "markdown",
   "id": "96a8f1f7",
   "metadata": {},
   "source": [
    "# EDA (Exploratory Data Analysis)"
   ]
  },
  {
   "cell_type": "markdown",
   "id": "5f74a8c8",
   "metadata": {},
   "source": [
    "- Explore dataset\n",
    "- Check information\n",
    "- Check missing values\n",
    "- Look at summary "
   ]
  },
  {
   "cell_type": "code",
   "execution_count": null,
   "id": "707c7457",
   "metadata": {},
   "outputs": [],
   "source": []
  },
  {
   "cell_type": "code",
   "execution_count": null,
   "id": "2936370b",
   "metadata": {},
   "outputs": [],
   "source": []
  },
  {
   "cell_type": "code",
   "execution_count": null,
   "id": "a7037c1f",
   "metadata": {},
   "outputs": [],
   "source": []
  },
  {
   "cell_type": "code",
   "execution_count": null,
   "id": "125349df",
   "metadata": {},
   "outputs": [],
   "source": []
  },
  {
   "cell_type": "markdown",
   "id": "a7368ecd",
   "metadata": {},
   "source": [
    "## Which countries below average by IMF world estimate?"
   ]
  },
  {
   "cell_type": "code",
   "execution_count": null,
   "id": "31f02bcf",
   "metadata": {},
   "outputs": [],
   "source": []
  },
  {
   "cell_type": "code",
   "execution_count": null,
   "id": "677a7d9b",
   "metadata": {},
   "outputs": [],
   "source": []
  },
  {
   "cell_type": "code",
   "execution_count": null,
   "id": "24e8eb91",
   "metadata": {},
   "outputs": [],
   "source": []
  },
  {
   "cell_type": "markdown",
   "id": "2228dc87",
   "metadata": {},
   "source": [
    "## Which country has highest UN Estimate?"
   ]
  },
  {
   "cell_type": "code",
   "execution_count": null,
   "id": "8205397d",
   "metadata": {},
   "outputs": [],
   "source": []
  },
  {
   "cell_type": "code",
   "execution_count": null,
   "id": "e4b2358d",
   "metadata": {},
   "outputs": [],
   "source": []
  },
  {
   "cell_type": "code",
   "execution_count": null,
   "id": "55d47553",
   "metadata": {},
   "outputs": [],
   "source": []
  },
  {
   "cell_type": "markdown",
   "id": "3a1d3c89",
   "metadata": {},
   "source": [
    "## Which country has highest Worlbank Estimate?"
   ]
  },
  {
   "cell_type": "code",
   "execution_count": null,
   "id": "3c39d8bc",
   "metadata": {},
   "outputs": [],
   "source": []
  },
  {
   "cell_type": "code",
   "execution_count": null,
   "id": "4dbc124d",
   "metadata": {},
   "outputs": [],
   "source": []
  },
  {
   "cell_type": "code",
   "execution_count": null,
   "id": "67105620",
   "metadata": {},
   "outputs": [],
   "source": []
  },
  {
   "cell_type": "markdown",
   "id": "7efaadc8",
   "metadata": {},
   "source": [
    "## Which country has highest IMF Estimate?"
   ]
  },
  {
   "cell_type": "code",
   "execution_count": null,
   "id": "41807996",
   "metadata": {},
   "outputs": [],
   "source": []
  },
  {
   "cell_type": "code",
   "execution_count": null,
   "id": "704f3c34",
   "metadata": {},
   "outputs": [],
   "source": []
  },
  {
   "cell_type": "code",
   "execution_count": null,
   "id": "703bbfab",
   "metadata": {},
   "outputs": [],
   "source": []
  },
  {
   "cell_type": "code",
   "execution_count": null,
   "id": "bc7d8564",
   "metadata": {},
   "outputs": [],
   "source": []
  },
  {
   "cell_type": "markdown",
   "id": "3432bd13",
   "metadata": {},
   "source": [
    "## Checking Missing Values"
   ]
  },
  {
   "cell_type": "code",
   "execution_count": null,
   "id": "48996ae2",
   "metadata": {},
   "outputs": [],
   "source": []
  },
  {
   "cell_type": "code",
   "execution_count": null,
   "id": "102175a5",
   "metadata": {},
   "outputs": [],
   "source": []
  },
  {
   "cell_type": "code",
   "execution_count": null,
   "id": "194f30f0",
   "metadata": {},
   "outputs": [],
   "source": []
  },
  {
   "cell_type": "code",
   "execution_count": null,
   "id": "9adcefb0",
   "metadata": {},
   "outputs": [],
   "source": []
  },
  {
   "cell_type": "code",
   "execution_count": null,
   "id": "12f05d81",
   "metadata": {},
   "outputs": [],
   "source": []
  },
  {
   "cell_type": "code",
   "execution_count": null,
   "id": "67a42f52",
   "metadata": {},
   "outputs": [],
   "source": []
  },
  {
   "cell_type": "code",
   "execution_count": null,
   "id": "a08c53e0",
   "metadata": {},
   "outputs": [],
   "source": []
  },
  {
   "cell_type": "markdown",
   "id": "84e9d86b",
   "metadata": {},
   "source": [
    "## Visualization"
   ]
  },
  {
   "cell_type": "code",
   "execution_count": null,
   "id": "bf0b0c79",
   "metadata": {},
   "outputs": [],
   "source": [
    "import matplotlib.pyplot as plt\n",
    "import seaborn as sns"
   ]
  },
  {
   "cell_type": "markdown",
   "id": "4a4da1d7",
   "metadata": {},
   "source": [
    "### Histogram"
   ]
  },
  {
   "cell_type": "code",
   "execution_count": null,
   "id": "a924b0ee",
   "metadata": {},
   "outputs": [],
   "source": [
    "df.hist(figsize=(12,9))\n",
    "plt.show()"
   ]
  },
  {
   "cell_type": "code",
   "execution_count": null,
   "id": "45fc4edf",
   "metadata": {},
   "outputs": [],
   "source": [
    "df[[\"IMF_Estimate\", \"UN_Estimate\", \"WorldBank_Estimate\"]].hist(figsize=(12,9))\n",
    "\n",
    "plt.show()"
   ]
  },
  {
   "cell_type": "code",
   "execution_count": null,
   "id": "765a97e0",
   "metadata": {},
   "outputs": [],
   "source": [
    "df[[\"IMF_Estimate\", \"UN_Estimate\", \"WorldBank_Estimate\"]].hist(bins=5, figsize=(12,9))\n",
    "\n",
    "plt.show()"
   ]
  },
  {
   "cell_type": "code",
   "execution_count": null,
   "id": "1f89e26d",
   "metadata": {},
   "outputs": [],
   "source": [
    "df[\"WorldBank_Estimate\"].agg([\"min\",\"max\"])"
   ]
  },
  {
   "cell_type": "code",
   "execution_count": null,
   "id": "623ac797",
   "metadata": {},
   "outputs": [],
   "source": [
    "234316/5\n",
    "#1 bin size if bins=5"
   ]
  },
  {
   "cell_type": "code",
   "execution_count": null,
   "id": "a36546fa",
   "metadata": {},
   "outputs": [],
   "source": [
    "234316/10\n",
    "#1 bin size if bins not given any number"
   ]
  },
  {
   "cell_type": "code",
   "execution_count": null,
   "id": "79c3d1e5",
   "metadata": {},
   "outputs": [],
   "source": [
    "df[[\"IMF_Estimate\", \"UN_Estimate\", \"WorldBank_Estimate\"]].hist(bins=3, figsize=(12,9))\n",
    "\n",
    "plt.show()"
   ]
  },
  {
   "cell_type": "code",
   "execution_count": null,
   "id": "05e7fd91",
   "metadata": {},
   "outputs": [],
   "source": [
    "df[[\"IMF_Estimate\", \"UN_Estimate\", \"WorldBank_Estimate\"]].hist(bins=15, figsize=(15,12))\n",
    "\n",
    "\n",
    "plt.show()"
   ]
  },
  {
   "cell_type": "markdown",
   "id": "e70fb08b",
   "metadata": {},
   "source": [
    "### Correlation Heatmap"
   ]
  },
  {
   "cell_type": "code",
   "execution_count": null,
   "id": "f6dbc603",
   "metadata": {},
   "outputs": [],
   "source": [
    "corr = df.corr()\n",
    "\n",
    "plt.figure(figsize=(9,6))\n",
    "sns.heatmap(corr)\n",
    "\n",
    "plt.show()"
   ]
  },
  {
   "cell_type": "code",
   "execution_count": null,
   "id": "0ea2c2c6",
   "metadata": {},
   "outputs": [],
   "source": [
    "corr = df.corr()\n",
    "\n",
    "plt.figure(figsize=(9,6))\n",
    "\n",
    "sns.heatmap(corr, annot=True)\n",
    "\n",
    "plt.show()"
   ]
  },
  {
   "cell_type": "code",
   "execution_count": null,
   "id": "ec56839b",
   "metadata": {},
   "outputs": [],
   "source": [
    "corr = df.corr()\n",
    "\n",
    "plt.figure(figsize=(9,6))\n",
    "\n",
    "sns.heatmap(corr, annot=True, cmap = 'GnBu')\n",
    "\n",
    "plt.show()"
   ]
  },
  {
   "cell_type": "code",
   "execution_count": null,
   "id": "a4688e18",
   "metadata": {},
   "outputs": [],
   "source": [
    "corr = df.corr()\n",
    "\n",
    "plt.figure(figsize=(9,6))\n",
    "\n",
    "sns.heatmap(corr, annot=True, cmap = 'Purples')\n",
    "\n",
    "plt.title(\"Correlation Map\")\n",
    "\n",
    "\n",
    "plt.show()"
   ]
  },
  {
   "cell_type": "markdown",
   "id": "8ee4dc00",
   "metadata": {},
   "source": [
    "### Bar plot"
   ]
  },
  {
   "cell_type": "code",
   "execution_count": null,
   "id": "4ca42efd",
   "metadata": {},
   "outputs": [],
   "source": [
    "df.head()"
   ]
  },
  {
   "cell_type": "code",
   "execution_count": null,
   "id": "09e70a00",
   "metadata": {},
   "outputs": [],
   "source": [
    "sns.barplot(x=\"UN_Region\", y=\"WorldBank_Estimate\", data=df, errorbar=None)\n",
    "\n",
    "plt.show()"
   ]
  },
  {
   "cell_type": "code",
   "execution_count": null,
   "id": "6a7c7377",
   "metadata": {},
   "outputs": [],
   "source": [
    "sns.barplot(x=\"WorldBank_Estimate\", y=\"UN_Region\", data=df, errorbar=None)\n",
    "\n",
    "plt.show()"
   ]
  },
  {
   "cell_type": "code",
   "execution_count": null,
   "id": "f8659907",
   "metadata": {},
   "outputs": [],
   "source": [
    "fig = plt.figure(figsize = (8,5))\n",
    "\n",
    "ax = sns.barplot(x = \"IMF_Estimate\",  y = \"UN_Region\",  \n",
    "data = df, errorbar = None)\n",
    "\n",
    "ax.bar_label(ax.containers[0])\n",
    "\n",
    "plt.show()"
   ]
  },
  {
   "cell_type": "code",
   "execution_count": null,
   "id": "9a15bcad",
   "metadata": {},
   "outputs": [],
   "source": [
    "fig = plt.figure(figsize = (8,5)) \n",
    "ax = sns.barplot(x = \"UN_Region\",  y = \"IMF_Estimate\", \n",
    "                 data = df, errorbar = None) \n",
    "\n",
    "ax.bar_label(ax.containers[0]) \n",
    "\n",
    "\n",
    "ax.set_title(\"My title\")\n",
    "plt.show()"
   ]
  },
  {
   "cell_type": "code",
   "execution_count": null,
   "id": "6e99479a",
   "metadata": {},
   "outputs": [],
   "source": []
  },
  {
   "cell_type": "markdown",
   "id": "f1aa35d0",
   "metadata": {},
   "source": [
    "### Scatter Plot"
   ]
  },
  {
   "cell_type": "code",
   "execution_count": null,
   "id": "d8583563",
   "metadata": {},
   "outputs": [],
   "source": [
    "df.plot(x='UN_Region', y='UN_Estimate', kind='scatter',\n",
    "        figsize=(10,6),\n",
    "        title=\"Scatter Plot\")\n",
    "\n",
    "plt.show()"
   ]
  },
  {
   "cell_type": "code",
   "execution_count": null,
   "id": "67dc9155",
   "metadata": {},
   "outputs": [],
   "source": []
  },
  {
   "cell_type": "code",
   "execution_count": null,
   "id": "510f198a",
   "metadata": {},
   "outputs": [],
   "source": []
  },
  {
   "cell_type": "code",
   "execution_count": null,
   "id": "14284f4f",
   "metadata": {},
   "outputs": [],
   "source": []
  },
  {
   "cell_type": "code",
   "execution_count": null,
   "id": "f56493b0",
   "metadata": {},
   "outputs": [],
   "source": []
  },
  {
   "cell_type": "markdown",
   "id": "08663651",
   "metadata": {},
   "source": [
    "### Boxplot and Outliers"
   ]
  },
  {
   "attachments": {
    "image.png": {
     "image/png": "[encoded data removed]"
    }
   },
   "cell_type": "markdown",
   "id": "af207298",
   "metadata": {},
   "source": [
    "https://builtin.com/sites/www.builtin.com/files/styles/ckeditor_optimize/public/inline-images/1_boxplots.jpg\n",
    "![image.png](attachment:image.png)"
   ]
  },
  {
   "cell_type": "code",
   "execution_count": null,
   "id": "3ceac0a3",
   "metadata": {},
   "outputs": [],
   "source": [
    "sns.boxplot(x=df[\"UN_Estimate\"])\n",
    "\n",
    "plt.show()"
   ]
  },
  {
   "cell_type": "code",
   "execution_count": null,
   "id": "7081b2d4",
   "metadata": {},
   "outputs": [],
   "source": [
    "df[df[\"UN_Estimate\"]>50000].head()"
   ]
  },
  {
   "cell_type": "code",
   "execution_count": null,
   "id": "99282133",
   "metadata": {},
   "outputs": [],
   "source": [
    "sns.boxplot(x=df[\"WorldBank_Estimate\"])\n",
    "\n",
    "plt.show()"
   ]
  },
  {
   "cell_type": "code",
   "execution_count": null,
   "id": "6ba80c49",
   "metadata": {},
   "outputs": [],
   "source": [
    "sns.boxplot(x=df[\"IMF_Estimate\"])\n",
    "\n",
    "plt.show()"
   ]
  },
  {
   "cell_type": "code",
   "execution_count": null,
   "id": "983a04a2",
   "metadata": {},
   "outputs": [],
   "source": [
    "df[df[\"UN_Estimate\"]>100000]"
   ]
  },
  {
   "cell_type": "code",
   "execution_count": null,
   "id": "91b0c382",
   "metadata": {},
   "outputs": [],
   "source": [
    "df.UN_Estimate.mean()"
   ]
  },
  {
   "cell_type": "code",
   "execution_count": null,
   "id": "bad9872e",
   "metadata": {},
   "outputs": [],
   "source": [
    "df.shape"
   ]
  },
  {
   "cell_type": "code",
   "execution_count": null,
   "id": "78b3c8ef",
   "metadata": {},
   "outputs": [],
   "source": []
  },
  {
   "cell_type": "markdown",
   "id": "080decce",
   "metadata": {},
   "source": [
    "## Create another dataframe called data excluding  5 countries with highest UN estimate"
   ]
  },
  {
   "cell_type": "code",
   "execution_count": null,
   "id": "1c0b325d",
   "metadata": {},
   "outputs": [],
   "source": [
    "data = df[-(df[\"UN_Estimate\"]>100000)]"
   ]
  },
  {
   "cell_type": "code",
   "execution_count": null,
   "id": "e0db9318",
   "metadata": {},
   "outputs": [],
   "source": [
    "data.head()"
   ]
  },
  {
   "cell_type": "code",
   "execution_count": null,
   "id": "9f3d78a4",
   "metadata": {},
   "outputs": [],
   "source": []
  },
  {
   "cell_type": "code",
   "execution_count": null,
   "id": "273c9a10",
   "metadata": {},
   "outputs": [],
   "source": [
    "data.UN_Estimate.mean()"
   ]
  },
  {
   "attachments": {
    "image.png": {
     "image/png": "[encoded data removed]"
    }
   },
   "cell_type": "markdown",
   "id": "f5e3f021",
   "metadata": {},
   "source": [
    "![image.png](attachment:image.png)"
   ]
  },
  {
   "cell_type": "code",
   "execution_count": null,
   "id": "860f66c6",
   "metadata": {},
   "outputs": [],
   "source": [
    "sns.boxplot(x=data[\"UN_Estimate\"])\n",
    "plt.show()"
   ]
  },
  {
   "cell_type": "code",
   "execution_count": null,
   "id": "fa29f8d0",
   "metadata": {},
   "outputs": [],
   "source": []
  },
  {
   "cell_type": "code",
   "execution_count": null,
   "id": "42b5034d",
   "metadata": {},
   "outputs": [],
   "source": []
  },
  {
   "cell_type": "markdown",
   "id": "d47b00f3",
   "metadata": {},
   "source": [
    "## Removing outliers"
   ]
  },
  {
   "cell_type": "code",
   "execution_count": null,
   "id": "6e81f17e",
   "metadata": {},
   "outputs": [],
   "source": []
  },
  {
   "cell_type": "code",
   "execution_count": null,
   "id": "81b2a144",
   "metadata": {},
   "outputs": [],
   "source": [
    "lower_q = df[\"UN_Estimate\"].quantile(0.25)\n",
    "lower_q\n"
   ]
  },
  {
   "cell_type": "code",
   "execution_count": null,
   "id": "4d2d9908",
   "metadata": {},
   "outputs": [],
   "source": [
    "higher_q = df[\"UN_Estimate\"].quantile(0.75)\n",
    "higher_q"
   ]
  },
  {
   "cell_type": "code",
   "execution_count": null,
   "id": "4fa8fc52",
   "metadata": {},
   "outputs": [],
   "source": [
    "iqr = higher_q - lower_q\n",
    "iqr"
   ]
  },
  {
   "cell_type": "code",
   "execution_count": null,
   "id": "df0e6dd8",
   "metadata": {},
   "outputs": [],
   "source": [
    "upper_boundary = higher_q + 1.5 * iqr\n",
    "upper_boundary"
   ]
  },
  {
   "cell_type": "code",
   "execution_count": null,
   "id": "decad3b7",
   "metadata": {},
   "outputs": [],
   "source": [
    "lower_boundary = lower_q - 1.5 * iqr\n",
    "lower_boundary"
   ]
  },
  {
   "cell_type": "code",
   "execution_count": null,
   "id": "76e66b47",
   "metadata": {},
   "outputs": [],
   "source": [
    "df_filtered = df[(df[\"UN_Estimate\"] < upper_boundary) & (df[\"UN_Estimate\"] > lower_boundary)]"
   ]
  },
  {
   "cell_type": "code",
   "execution_count": null,
   "id": "69e39033",
   "metadata": {},
   "outputs": [],
   "source": [
    "df_filtered.head()"
   ]
  },
  {
   "cell_type": "code",
   "execution_count": null,
   "id": "182221f6",
   "metadata": {},
   "outputs": [],
   "source": [
    "df_filtered.shape"
   ]
  },
  {
   "cell_type": "code",
   "execution_count": null,
   "id": "e1c70288",
   "metadata": {},
   "outputs": [],
   "source": [
    "df_filtered.UN_Estimate.mean()"
   ]
  },
  {
   "cell_type": "code",
   "execution_count": null,
   "id": "2d2f59e1",
   "metadata": {},
   "outputs": [],
   "source": []
  },
  {
   "cell_type": "code",
   "execution_count": null,
   "id": "ce2b5784",
   "metadata": {},
   "outputs": [],
   "source": []
  },
  {
   "cell_type": "code",
   "execution_count": null,
   "id": "28ab482e",
   "metadata": {},
   "outputs": [],
   "source": []
  },
  {
   "cell_type": "code",
   "execution_count": null,
   "id": "1dbffbdf",
   "metadata": {},
   "outputs": [],
   "source": [
    "#how can we create a table with following \n",
    "df_filtered.WorldBank_Estimate.mean()"
   ]
  },
  {
   "cell_type": "code",
   "execution_count": null,
   "id": "d71dcd64",
   "metadata": {},
   "outputs": [],
   "source": [
    "df_filtered.UN_Estimate.mean()\n"
   ]
  },
  {
   "cell_type": "code",
   "execution_count": null,
   "id": "6fee31d1",
   "metadata": {},
   "outputs": [],
   "source": [
    "df_filtered.IMF_Estimate.mean()"
   ]
  }
 ],
 "metadata": {
  "kernelspec": {
   "display_name": "Python 3 (ipykernel)",
   "language": "python",
   "name": "python3"
  },
  "language_info": {
   "codemirror_mode": {
    "name": "ipython",
    "version": 3
   },
   "file_extension": ".py",
   "mimetype": "text/x-python",
   "name": "python",
   "nbconvert_exporter": "python",
   "pygments_lexer": "ipython3",
   "version": "3.11.7"
  }
 },
 "nbformat": 4,
 "nbformat_minor": 5
}
